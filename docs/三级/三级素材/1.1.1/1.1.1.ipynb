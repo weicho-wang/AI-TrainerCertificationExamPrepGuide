{
 "cells": [
  {
   "cell_type": "code",
   "execution_count": null,
   "id": "6930096b-46ae-425a-87e5-593095f067b9",
   "metadata": {},
   "outputs": [],
   "source": [
    "import pandas as pd\n",
    "import numpy as np\n",
    "import matplotlib.pyplot as plt\n",
    "\n",
    "# 读取数据集\n",
    "data = pd._____________('patient_data.csv')"
   ]
  },
  {
   "cell_type": "code",
   "execution_count": null,
   "id": "cd5a5986-772a-41e4-95d3-1ce2929a0f09",
   "metadata": {},
   "outputs": [],
   "source": [
    "# 1. 统计住院天数超过7天的患者数量及其占比\n",
    "# 创建新列'RiskLevel'，根据住院天数判断风险等级\n",
    "data['RiskLevel'] = np._____________(data['DaysInHospital']>7, '高风险患者', '低风险患者')\n",
    "# 统计不同风险等级的患者数量\n",
    "risk_counts = data['RiskLevel']._____________()\n",
    "# 计算高风险患者占比\n",
    "high_risk_ratio = risk_counts['高风险患者'] / _____________(data)\n",
    "# 计算低风险患者占比\n",
    "low_risk_ratio = risk_counts['低风险患者'] / _____________(data)\n",
    "\n",
    "# 输出结果\n",
    "print(\"高风险患者数量:\", _____________['高风险患者'])\n",
    "print(\"低风险患者数量:\", _____________['低风险患者'])\n",
    "print(\"高风险患者占比:\", _____________)\n",
    "print(\"低风险患者占比:\", _____________)"
   ]
  },
  {
   "cell_type": "code",
   "execution_count": null,
   "id": "32511bf1-2155-44b1-a0ac-252b711da6d2",
   "metadata": {},
   "outputs": [],
   "source": [
    "# 2. 统计不同BMI区间中高风险患者的比例和患者数\n",
    "# 定义BMI区间和标签\n",
    "bmi_bins = [0, 18.5, 24.9, 29.9, np.inf]\n",
    "bmi_labels = ['低于18.5', '18.5～24.9', '25.0～29.9', '高于30.0']\n",
    "# 根据BMI值分配BMI区间标签\n",
    "data['BMIRange'] = pd._____________(data['BMI'], bins=bmi_bins, labels=bmi_labels)\n",
    "# 计算每个BMI区间中高风险患者的比例\n",
    "bmi_risk_rate = data._____________('BMIRange')['RiskLevel'].apply(lambda x: (x == '高风险患者').mean())\n",
    "# 统计每个BMI区间的患者数量\n",
    "bmi_patient_count = data['BMIRange']._____________()\n",
    "\n",
    "# 输出结果\n",
    "print(\"BMI区间中高风险患者的比例和患者数:\")\n",
    "print(_____________)    #高风险患者的比例\n",
    "print(_____________)    #高风险患者的患者数"
   ]
  },
  {
   "cell_type": "code",
   "execution_count": null,
   "id": "efc6523c-0bc2-46c2-8810-b0ee604d6f0c",
   "metadata": {},
   "outputs": [],
   "source": [
    "# 3. 统计不同年龄区间中高风险患者的比例和患者数\n",
    "# 定义年龄区间和标签\n",
    "age_bins = [0, 25, 35, 45, 55, 65, np.inf]\n",
    "age_labels = ['低于25岁', '26岁-35岁', '36岁-45岁', '46岁-55岁', '56岁-65岁', '高于65岁']\n",
    "# 根据年龄值分配年龄区间标签\n",
    "data['AgeRange'] = pd._____________(data['Age'], bins=age_bins, labels=age_labels)\n",
    "# 计算每个年龄区间中高风险患者的比例\n",
    "age_risk_rate = data._____________('AgeRange')['RiskLevel'].apply(lambda x: (x == '高风险患者').mean())\n",
    "# 统计每个年龄区间的患者数量\n",
    "age_patient_count = data['AgeRange']._____________()\n",
    "\n",
    "# 输出结果\n",
    "print(\"年龄区间中高风险患者的比例和患者数:\")\n",
    "print(_____________)   #高风险患者的比例\n",
    "print(_____________)   #高风险患者的患者数"
   ]
  }
 ],
 "metadata": {
  "kernelspec": {
   "display_name": "Python 3 (ipykernel)",
   "language": "python",
   "name": "python3"
  },
  "language_info": {
   "codemirror_mode": {
    "name": "ipython",
    "version": 3
   },
   "file_extension": ".py",
   "mimetype": "text/x-python",
   "name": "python",
   "nbconvert_exporter": "python",
   "pygments_lexer": "ipython3",
   "version": "3.9.2"
  }
 },
 "nbformat": 4,
 "nbformat_minor": 5
}
