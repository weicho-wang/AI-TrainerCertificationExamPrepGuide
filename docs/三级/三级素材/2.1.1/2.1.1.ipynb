{
 "cells": [
  {
   "cell_type": "code",
   "execution_count": null,
   "id": "f8a15baf-9967-44f3-bac5-93db04578568",
   "metadata": {},
   "outputs": [],
   "source": [
    "import pandas as pd\n",
    "\n",
    "# 加载数据集并显示数据集的前五行 1分\n",
    "file_path = 'auto-mpg.csv'\n",
    "data = pd.__________(file_path)\n",
    "print(\"数据集的前五行:\")\n",
    "print(data.head())\n",
    "\n",
    "# 显示每一列的数据类型\n",
    "print(data.dtypes)\n",
    "\n",
    "# 检查缺失值并删除缺失值所在的行  2分\n",
    "print(\"\\n检查缺失值:\")\n",
    "print(data.__________().sum())  \n",
    "data = data.__________()\n",
    "\n",
    "# 将 'horsepower' 列转换为数值类型，并处理转换中的异常值 1分\n",
    "data['horsepower'] = pd.to_numeric(data['horsepower'], errors='coerce')\n",
    "data = data.__________(subset=['horsepower'])\n",
    "\n",
    "# 显示每一列的数据类型\n",
    "print(data.horsepower.dtypes)\n",
    "\n",
    "# 检查清洗后的缺失值\n",
    "print(\"\\n检查清洗后的缺失值:\")\n",
    "print(data.isnull().sum())\n",
    "\n",
    "from sklearn.preprocessing import StandardScaler\n",
    "# 对数值型数据进行标准化处理 1分\n",
    "numerical_features = ['displacement', 'horsepower', 'weight', 'acceleration']\n",
    "scaler = StandardScaler()\n",
    "data[numerical_features] = scaler.__________(data[numerical_features])\n",
    "\n",
    "from sklearn.model_selection import train_test_split\n",
    "# 选择特征和目标变量 2分\n",
    "selected_features = ['__________', 'displacement', 'horsepower', 'weight', 'acceleration', 'model year', 'origin']\n",
    "X = data[__________]\n",
    "y = data['__________']\n",
    "\n",
    "# 划分数据集为训练集和测试集 1分\n",
    "X_train, X_test, y_train, y_test = __________(X, y, test_size=0.2, random_state=42)\n",
    "\n",
    "\n",
    "# 将特征和目标变量合并到一个数据框中\n",
    "cleaned_data = X.copy()\n",
    "cleaned_data['mpg'] = y\n",
    "\n",
    "# 保存清洗和处理后的数据\n",
    "cleaned_data.__________('2.1.1_cleaned_data.csv', index=False)\n",
    "\n",
    "# 打印消息指示文件已保存\n",
    "print(\"\\n清洗后的数据已保存到 2.1.1_cleaned_data.csv\")"
   ]
  },
  {
   "cell_type": "code",
   "execution_count": null,
   "id": "0ff66ac3-5f9b-48ed-a298-502ec9595abe",
   "metadata": {},
   "outputs": [],
   "source": []
  }
 ],
 "metadata": {
  "kernelspec": {
   "display_name": "Python 3 (ipykernel)",
   "language": "python",
   "name": "python3"
  },
  "language_info": {
   "codemirror_mode": {
    "name": "ipython",
    "version": 3
   },
   "file_extension": ".py",
   "mimetype": "text/x-python",
   "name": "python",
   "nbconvert_exporter": "python",
   "pygments_lexer": "ipython3",
   "version": "3.9.2"
  }
 },
 "nbformat": 4,
 "nbformat_minor": 5
}
