{
 "cells": [
  {
   "cell_type": "code",
   "execution_count": null,
   "id": "f2005c85-fca0-4f82-9b98-5d30974c2ac9",
   "metadata": {},
   "outputs": [],
   "source": [
    "import pandas as pd\n",
    "import numpy as np\n",
    "import matplotlib.pyplot as plt\n",
    "\n",
    "# 1. 数据采集\n",
    "# 从本地文件中读取数据  2分\n",
    "data =  ________________.________________('user_behavior_data.csv')\n",
    "print(\"数据采集完成，已加载到DataFrame中\")\n",
    "\n",
    "# 打印数据的前5条记录  2分\n",
    "print(________________.________________())"
   ]
  },
  {
   "cell_type": "code",
   "execution_count": null,
   "id": "eda9dfd8-e32c-4c69-b176-106edcca2482",
   "metadata": {},
   "outputs": [],
   "source": [
    "# 2. 数据清洗与预处理\n",
    "# 处理缺失值  2分\n",
    "data = ________________.________________()\n",
    "\n",
    "# 数据类型转换\n",
    "data['Age'] = ________________['Age'].________________(int)   # Age数据类型转换 2分\n",
    "data['PurchaseAmount'] = ________________['PurchaseAmount'].________________(float) # PurchaseAmount数据类型转换  2分\n",
    "data['ReviewScore'] = ________________['ReviewScore'].________________(int)  # ReviewScore数据类型转换 2分\n",
    "\n",
    "# 处理异常值  2分\n",
    "data = data[(data['Age'].________________(18, 70)) & \n",
    "            (data['PurchaseAmount'] > 0) & \n",
    "            (data['ReviewScore'].________________(1, 5))]\n",
    "\n",
    "# 数据标准化\n",
    "data['PurchaseAmount'] = (data['PurchaseAmount'] - data['PurchaseAmount'].________________()) / data['PurchaseAmount'].________________()  # PurchaseAmount数据标准化 2分\n",
    "data['ReviewScore'] = (data['ReviewScore'] - data['ReviewScore'].________________()) / data['ReviewScore'].________________()   # ReviewScore数据标准化 2分\n",
    "\n",
    "# 保存清洗后的数据  1分\n",
    "data.________________('cleaned_user_behavior_data.csv', index=False)\n",
    "print(\"数据清洗完成，已保存为 'cleaned_user_behavior_data.csv'\")"
   ]
  },
  {
   "cell_type": "code",
   "execution_count": null,
   "id": "89b3e72f-e184-4903-bc2b-059a1b029c96",
   "metadata": {},
   "outputs": [],
   "source": [
    "# 3. 数据统计\n",
    "# 统计每个购买类别的用户数\n",
    "purchase_category_counts = data['PurchaseCategory'].value_counts()\n",
    "print(\"每个购买类别的用户数:\\n\", purchase_category_counts)\n",
    "\n",
    "# 统计不同性别的平均购买金额\n",
    "gender_purchase_amount_mean = data.groupby('Gender')['PurchaseAmount'].mean()\n",
    "print(\"不同性别的平均购买金额:\\n\", gender_purchase_amount_mean)\n",
    "\n",
    "# 统计不同年龄段的用户数\n",
    "bins = [18, 25, 35, 45, 55, 65, 70]\n",
    "labels = ['18-25', '26-35', '36-45', '46-55', '56-65', '65+']\n",
    "data['AgeGroup'] = pd.cut(data['Age'], bins=bins, labels=labels, right=False)\n",
    "age_group_counts = data['AgeGroup'].value_counts().sort_index()\n",
    "print(\"不同年龄段的用户数:\\n\", age_group_counts)\n"
   ]
  }
 ],
 "metadata": {
  "kernelspec": {
   "display_name": "Python 3 (ipykernel)",
   "language": "python",
   "name": "python3"
  },
  "language_info": {
   "codemirror_mode": {
    "name": "ipython",
    "version": 3
   },
   "file_extension": ".py",
   "mimetype": "text/x-python",
   "name": "python",
   "nbconvert_exporter": "python",
   "pygments_lexer": "ipython3",
   "version": "3.9.2"
  }
 },
 "nbformat": 4,
 "nbformat_minor": 5
}
