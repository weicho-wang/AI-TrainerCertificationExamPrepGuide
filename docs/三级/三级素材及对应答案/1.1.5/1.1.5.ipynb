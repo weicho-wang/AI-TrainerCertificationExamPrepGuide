{
 "cells": [
  {
   "cell_type": "code",
   "execution_count": 1,
   "id": "c5eee2c0-5bd3-4797-ba5e-1341a6e28832",
   "metadata": {},
   "outputs": [
    {
     "name": "stdout",
     "output_type": "stream",
     "text": [
      "数据采集完成，已加载到DataFrame中\n",
      "   VehicleID DriverName  Age Gender  Speed  TravelDistance   TravelTime  \\\n",
      "0          1   Driver_1   62   Male     17             242   854.117647   \n",
      "1          2   Driver_2   65   Male    128             438   205.312500   \n",
      "2          3   Driver_3   18   Male    167             792   284.550898   \n",
      "3          4   Driver_4   21   Male     38             999  1577.368421   \n",
      "4          5   Driver_5   21   Male    193             364   113.160622   \n",
      "\n",
      "  TrafficEvent  \n",
      "0       Normal  \n",
      "1     Accident  \n",
      "2    Breakdown  \n",
      "3  Traffic Jam  \n",
      "4    Breakdown  \n"
     ]
    }
   ],
   "source": [
    "import pandas as pd\n",
    "import numpy as np\n",
    "import matplotlib.pyplot as plt\n",
    "\n",
    "# 1. 数据采集\n",
    "# 从本地文件中读取数据  2分\n",
    "# data = _____________\n",
    "data = pd.read_csv('vehicle_traffic_data.csv')\n",
    "print(\"数据采集完成，已加载到DataFrame中\")\n",
    "\n",
    "# 打印数据的前5条记录 2分\n",
    "# print(_____________)\n",
    "print(data.head())"
   ]
  },
  {
   "cell_type": "code",
   "execution_count": 2,
   "id": "244da04a-74a6-43d5-8a23-6332994601cb",
   "metadata": {},
   "outputs": [
    {
     "name": "stdout",
     "output_type": "stream",
     "text": [
      "数据清洗完成，已保存为 'cleaned_vehicle_traffic_data.csv'\n"
     ]
    }
   ],
   "source": [
    "# 2. 数据清洗与预处理\n",
    "# 处理缺失值（删除）  2分\n",
    "# data = _____________\n",
    "data = data.dropna()\n",
    "\n",
    "# 数据类型转换\n",
    "# data_____________ = _____________(int)       #Age数据类型转换为int 1分\n",
    "# data_____________ = _____________(float)     #Speed数据类型转换为float 1分\n",
    "# data_____________ = _____________(float)     #TravelDistance数据类型转换为float 1分\n",
    "# data_____________ = _____________(float)     #TravelTime数据类型转换为float 1分\n",
    "data['Age'] = data['Age'].astype(int)       #Age数据类型转换为int 1分\n",
    "data['Speed'] =data['Speed'].astype(float)     #Speed数据类型转换为float 1分\n",
    "data['TravelDistance'] =data['TravelDistance'].astype(float)     #TravelDistance数据类型转换为float 1分\n",
    "data['TravelTime'] = data['TravelTime'].astype(float)     #TravelTime数据类型转换为float 1分\n",
    "\n",
    "\n",
    "# 处理异常值  2分\n",
    "'''\n",
    "data = data[(_____________(18, 70))  & \n",
    "            (_____________(0, 200)) & \n",
    "            (_____________(1, 1000)) & \n",
    "            (_____________(1, 1440))]\n",
    "'''\n",
    "data = data[(data['Age'].between(18, 70))  & \n",
    "            (data['Speed'].between(0, 200)) & \n",
    "            (data['TravelDistance'].between(1, 1000)) & \n",
    "            (data['TravelTime'].between(1, 1440))]\n",
    "\n",
    "# 保存清洗后的数据  1分\n",
    "# _____________('cleaned_vehicle_traffic_data.csv', index=False)\n",
    "data.to_csv('cleaned_vehicle_traffic_data.csv', index=False)\n",
    "print(\"数据清洗完成，已保存为 'cleaned_vehicle_traffic_data.csv'\")"
   ]
  },
  {
   "cell_type": "code",
   "execution_count": 5,
   "id": "0e8c224c-4015-45ac-a72e-30957d2629a3",
   "metadata": {},
   "outputs": [
    {
     "name": "stdout",
     "output_type": "stream",
     "text": [
      "不合理的数据:\n",
      " Empty DataFrame\n",
      "Columns: [VehicleID, DriverName, Age, Gender, Speed, TravelDistance, TravelTime, TrafficEvent]\n",
      "Index: []\n",
      "每种交通事件的发生次数:\n",
      " Accident       229\n",
      "Normal         227\n",
      "Traffic Jam    218\n",
      "Breakdown      204\n",
      "Name: TrafficEvent, dtype: int64\n",
      "不同性别的平均车速、行驶距离和行驶时间:\n",
      "              Speed  TravelDistance  TravelTime\n",
      "Gender                                        \n",
      "Female  105.130820      487.476718  359.628355\n",
      "Male    108.918033      477.932084  359.134097\n",
      "不同年龄段的驾驶员数:\n",
      " 46-55    172\n",
      "36-45    169\n",
      "56-65    159\n",
      "26-35    154\n",
      "18-25    151\n",
      "65+       73\n",
      "Name: AgeGroup, dtype: int64\n"
     ]
    }
   ],
   "source": [
    "# 3. 数据合理性审核\n",
    "# 审核字段合理性 1分\n",
    "'''\n",
    "unreasonable_data = data[~((_____________(18, 70)) & \n",
    "                           (_____________(0, 200)) & \n",
    "                           (_____________(1, 1000)) & \n",
    "                           (_____________(1, 1440)))]\n",
    "'''\n",
    "unreasonable_data = data[~((data['Age'].between(18, 70)) & \n",
    "                           (data['Speed'].between(0, 200)) & \n",
    "                           (data['TravelDistance'].between(1, 1000)) & \n",
    "                           (data['TravelTime'].between(1, 1440)))]\n",
    "\n",
    "print(\"不合理的数据:\\n\", unreasonable_data)\n",
    "\n",
    "# 4. 数据统计\n",
    "# 统计每种交通事件的发生次数  2分\n",
    "\n",
    "# traffic_event_counts = _____________\n",
    "traffic_event_counts = data['TrafficEvent'].value_counts()\n",
    "\n",
    "print(\"每种交通事件的发生次数:\\n\", traffic_event_counts)\n",
    "\n",
    "# 统计不同性别的平均车速、行驶距离和行驶时间  2分\n",
    "\n",
    "# gender_stats = data._____________._____________\n",
    "gender_stats = data.groupby('Gender').agg({'Speed':'mean','TravelDistance':'mean','TravelTime':'mean'})\n",
    "\n",
    "print(\"不同性别的平均车速、行驶距离和行驶时间:\\n\", gender_stats)\n",
    "\n",
    "# 统计不同年龄段的驾驶员数  5分\n",
    "age_bins = [18, 26, 36, 46, 56, 66, np.inf]\n",
    "age_labels = ['18-25', '26-35', '36-45', '46-55', '56-65', '65+']\n",
    "# data['AgeGroup'] = _____________(_____________,_____________,_____________, right=False)\n",
    "# age_group_counts = _____________\n",
    "data['AgeGroup'] = pd.cut(data['Age'],bins=age_bins,labels=age_labels, right=False)\n",
    "age_group_counts = data['AgeGroup'].value_counts()\n",
    "\n",
    "print(\"不同年龄段的驾驶员数:\\n\", age_group_counts)"
   ]
  },
  {
   "cell_type": "code",
   "execution_count": null,
   "id": "6cccfae4",
   "metadata": {},
   "outputs": [],
   "source": []
  }
 ],
 "metadata": {
  "kernelspec": {
   "display_name": "Python 3 (ipykernel)",
   "language": "python",
   "name": "python3"
  },
  "language_info": {
   "codemirror_mode": {
    "name": "ipython",
    "version": 3
   },
   "file_extension": ".py",
   "mimetype": "text/x-python",
   "name": "python",
   "nbconvert_exporter": "python",
   "pygments_lexer": "ipython3",
   "version": "3.11.5"
  }
 },
 "nbformat": 4,
 "nbformat_minor": 5
}
