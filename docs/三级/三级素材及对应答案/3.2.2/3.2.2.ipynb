{
 "cells": [
  {
   "cell_type": "code",
   "execution_count": null,
   "id": "d329ae72-b7ab-47cc-b698-3c62d72233c0",
   "metadata": {},
   "outputs": [],
   "source": [
    "import onnxruntime\n",
    "import numpy as np\n",
    "from PIL import Image\n",
    "\n",
    "\n",
    "# 加载ONNX模型  2分\n",
    "ort_session = __________________.__________________(\"mnist.onnx\")\n",
    "\n",
    "\n",
    "# 加载图像 2分\n",
    "image = __________________.__________________(\"img_test.png\").convert('L')  # 转为灰度图\n",
    "\n",
    "\n",
    "#图像预处理 4分\n",
    "image = image.__________________((28, 28))  # 调整大小为MNIST模型的输入尺寸1分\n",
    "image_array = np.__________________(image, dtype=np.float32)  # 转为numpy数组1分\n",
    "image_array = np.__________________(image_array, axis=0)  # 添加batch维度1分\n",
    "image_array = np.__________________(image_array, axis=0)  # 添加通道维度1分\n",
    "\n",
    "\n",
    "#使用模型对图片进行识别 2分\n",
    "ort_inputs = {__________________.__________________()[0].name: image_array}\n",
    "# 执行预测 2分\n",
    "ort_outs = __________________.__________________(None, ort_inputs)\n",
    "\n",
    "\n",
    "# 获取预测结果 2分\n",
    "predicted_class = __________________.__________________(ort_outs[0])\n",
    "\n",
    "\n",
    "# 输出预测结果\n",
    "print(f\"Predicted class: {predicted_class}\")\n"
   ]
  }
 ],
 "metadata": {
  "kernelspec": {
   "display_name": "Python 3 (ipykernel)",
   "language": "python",
   "name": "python3"
  },
  "language_info": {
   "codemirror_mode": {
    "name": "ipython",
    "version": 3
   },
   "file_extension": ".py",
   "mimetype": "text/x-python",
   "name": "python",
   "nbconvert_exporter": "python",
   "pygments_lexer": "ipython3",
   "version": "3.9.2"
  }
 },
 "nbformat": 4,
 "nbformat_minor": 5
}
