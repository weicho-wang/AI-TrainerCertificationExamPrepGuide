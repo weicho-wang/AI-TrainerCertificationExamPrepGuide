{
 "cells": [
  {
   "cell_type": "code",
   "execution_count": null,
   "id": "dc6df6cd-ed8a-4658-bc6c-0e6d3954c384",
   "metadata": {},
   "outputs": [],
   "source": [
    "import pandas as pd\n",
    "import numpy as np\n",
    "import matplotlib.pyplot as plt\n",
    "# 读取数据集\n",
    "data = pd._____________('sensor_data.csv')"
   ]
  },
  {
   "cell_type": "code",
   "execution_count": null,
   "id": "827966a0-74d4-406a-b6c0-02bf756f0140",
   "metadata": {},
   "outputs": [],
   "source": [
    "# 1. 传感器数据统计\n",
    "# 对传感器类型进行分组，并计算每个组的数据数量和平均值\n",
    "sensor_stats = data._____________('SensorType')['Value'].agg(['count', 'mean'])\n",
    "# 输出结果\n",
    "print(\"传感器数据数量和平均值:\")\n",
    "print(_____________)"
   ]
  },
  {
   "cell_type": "code",
   "execution_count": null,
   "id": "b5cb3daa-45a0-4dae-ab84-07e9129158c7",
   "metadata": {},
   "outputs": [],
   "source": [
    "# 2. 按位置统计温度和湿度数据\n",
    "# 筛选出温度和湿度数据，然后按位置和传感器类型分组，计算每个组的平均值\n",
    "location_stats = data[data['SensorType'].isin(['Temperature', 'Humidity'])]._____________(['Location', 'SensorType'])['Value'].mean().unstack()\n",
    "# 输出结果\n",
    "print(\"每个位置的温度和湿度数据平均值:\")\n",
    "print(_____________)"
   ]
  },
  {
   "cell_type": "code",
   "execution_count": null,
   "id": "68064e8f-ac9a-4f17-926d-d18489e704c1",
   "metadata": {},
   "outputs": [],
   "source": [
    "# 3. 数据清洗和异常值处理\n",
    "# 标记异常值\n",
    "data['is_abnormal'] = np._____________(\n",
    "    ((data['SensorType'] == 'Temperature') & ((data['Value'] < -10) | (data['Value'] > 50))) |\n",
    "    ((data['SensorType'] == 'Humidity') & ((data['Value'] < 0) | (data['Value'] > 100))),\n",
    "    True, False\n",
    ")\n",
    "# 输出异常值数量\n",
    "print(\"异常值数量:\", data['is_abnormal']._____________())\n",
    "# 填补缺失值\n",
    "# 使用前向填充和后向填充的方法填补缺失值\n",
    "data['Value']._____________(method='ffill', inplace=True)\n",
    "data['Value']._____________(method='bfill', inplace=True)\n",
    "# 保存清洗后的数据\n",
    "# 删除用于标记异常值的列，并将清洗后的数据保存到新的CSV文件中\n",
    "cleaned_data = data._____________(columns=['is_abnormal'])\n",
    "cleaned_data._____________('cleaned_sensor_data.csv', index=False)\n",
    "print(\"数据清洗完成，已保存为 'cleaned_sensor_data.csv'\")"
   ]
  }
 ],
 "metadata": {
  "kernelspec": {
   "display_name": "Python 3 (ipykernel)",
   "language": "python",
   "name": "python3"
  },
  "language_info": {
   "codemirror_mode": {
    "name": "ipython",
    "version": 3
   },
   "file_extension": ".py",
   "mimetype": "text/x-python",
   "name": "python",
   "nbconvert_exporter": "python",
   "pygments_lexer": "ipython3",
   "version": "3.9.2"
  }
 },
 "nbformat": 4,
 "nbformat_minor": 5
}
