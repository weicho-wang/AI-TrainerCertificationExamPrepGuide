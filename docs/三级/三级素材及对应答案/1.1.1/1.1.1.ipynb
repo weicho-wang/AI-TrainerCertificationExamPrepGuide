{
 "cells": [
  {
   "cell_type": "code",
   "execution_count": 1,
   "id": "6930096b-46ae-425a-87e5-593095f067b9",
   "metadata": {},
   "outputs": [],
   "source": [
    "import pandas as pd\n",
    "import numpy as np\n",
    "\n",
    "# 读取数据集 1分\n",
    "\n",
    "# data = _____________\n",
    "data = pd.read_csv('patient_data.csv')"
   ]
  },
  {
   "cell_type": "code",
   "execution_count": 5,
   "id": "cd5a5986-772a-41e4-95d3-1ce2929a0f09",
   "metadata": {},
   "outputs": [
    {
     "name": "stdout",
     "output_type": "stream",
     "text": [
      "高风险患者数量: 413\n",
      "低风险患者数量: 587\n",
      "高风险患者占比: 0.413\n",
      "低风险患者占比: 0.587\n"
     ]
    }
   ],
   "source": [
    "# 1. 统计住院天数超过7天的患者数量及其占比\n",
    "# 创建新列'RiskLevel'，根据住院天数判断风险等级 3分\n",
    "\n",
    "# _____________ = _____________(_____________, '高风险患者', '低风险患者')\n",
    "data['RiskLevel'] = np.where(data['DaysInHospital']>7, '高风险患者', '低风险患者')\n",
    "\n",
    "# 统计不同风险等级的患者数量 2分\n",
    "\n",
    "# risk_counts = data_____________._____________\n",
    "risk_counts = data['RiskLevel'].value_counts()\n",
    "\n",
    "\n",
    "# 计算高风险患者占比 1分\n",
    "\n",
    "# high_risk_ratio = risk_counts['高风险患者'] / _____________\n",
    "high_risk_ratio = risk_counts['高风险患者'] / len(data)\n",
    "\n",
    "# 计算低风险患者占比 1分\n",
    "\n",
    "# low_risk_ratio = risk_counts['低风险患者'] / _____________\n",
    "low_risk_ratio = risk_counts['低风险患者'] / len(data)\n",
    "\n",
    "# 输出结果\n",
    "print(\"高风险患者数量:\", risk_counts['高风险患者'])\n",
    "print(\"低风险患者数量:\", risk_counts['低风险患者'])\n",
    "print(\"高风险患者占比:\", high_risk_ratio)\n",
    "print(\"低风险患者占比:\", low_risk_ratio)"
   ]
  },
  {
   "cell_type": "code",
   "execution_count": 6,
   "id": "32511bf1-2155-44b1-a0ac-252b711da6d2",
   "metadata": {},
   "outputs": [
    {
     "name": "stdout",
     "output_type": "stream",
     "text": [
      "BMI区间中高风险患者的比例和患者数:\n",
      "BMIRange\n",
      "偏瘦    0.444444\n",
      "正常    0.406699\n",
      "超重    0.388235\n",
      "肥胖    0.415094\n",
      "Name: RiskLevel, dtype: float64\n",
      "肥胖    477\n",
      "正常    209\n",
      "超重    170\n",
      "偏瘦    144\n",
      "Name: BMIRange, dtype: int64\n"
     ]
    }
   ],
   "source": [
    "# 2. 统计不同BMI区间中高风险患者的比例和统计不同BMI区间中的患者数\n",
    "# 定义BMI区间和标签\n",
    "bmi_bins = [0, 18.5, 24, 28, np.inf]\n",
    "bmi_labels = ['偏瘦', '正常', '超重', '肥胖']\n",
    "# 根据BMI值划分指定区间 4分\n",
    "\n",
    "# data['BMIRange'] = _____________(_____________, _____________, _____________, right=False)  # 使用左闭右开区间\n",
    "data['BMIRange'] = pd.cut(data['BMI'], bins=bmi_bins, labels=bmi_labels, right=False)  # 使用左闭右开区间\n",
    "\n",
    "# 计算每个BMI区间中高风险患者的比例 2分\n",
    "\n",
    "# bmi_risk_rate = _____________(_____________)['RiskLevel'].apply(lambda x: (x == '高风险患者').mean())\n",
    "bmi_risk_rate = data.groupby(data['BMIRange'])['RiskLevel'].apply(lambda x: (x == '高风险患者').mean())\n",
    "\n",
    "# 统计每个BMI区间的患者数量 1分\n",
    "# bmi_patient_count = data_____________\n",
    "bmi_patient_count = data['BMIRange'].value_counts()\n",
    "\n",
    "# 输出结果\n",
    "print(\"BMI区间中高风险患者的比例和患者数:\")\n",
    "print(bmi_risk_rate) \n",
    "print(bmi_patient_count)"
   ]
  },
  {
   "cell_type": "code",
   "execution_count": 7,
   "id": "efc6523c-0bc2-46c2-8810-b0ee604d6f0c",
   "metadata": {},
   "outputs": [
    {
     "name": "stdout",
     "output_type": "stream",
     "text": [
      "年龄区间中高风险患者的比例和患者数:\n",
      "AgeRange\n",
      "≤25岁      0.456693\n",
      "26-35岁    0.398496\n",
      "36-45岁    0.386364\n",
      "46-55岁    0.444444\n",
      "56-65岁    0.401575\n",
      "＞65岁      0.401254\n",
      "Name: RiskLevel, dtype: float64\n",
      "＞65岁      319\n",
      "46-55岁    162\n",
      "26-35岁    133\n",
      "36-45岁    132\n",
      "≤25岁      127\n",
      "56-65岁    127\n",
      "Name: AgeRange, dtype: int64\n"
     ]
    }
   ],
   "source": [
    "# 3. 统计不同年龄区间中高风险患者的比例和统计不同年龄区间中的患者数\n",
    "# 定义年龄区间和标签\n",
    "age_bins = [0, 26, 36, 46, 56, 66, np.inf]  \n",
    "age_labels = ['≤25岁', '26-35岁', '36-45岁', '46-55岁', '56-65岁', '＞65岁']\n",
    "# 根据年龄值划分指定区间 4分\n",
    "\n",
    "# data['AgeRange'] = _____________(_____________, _____________, _____________, right=False)  # 使用左闭右开区间\n",
    "data['AgeRange'] = pd.cut(data['Age'], bins=age_bins, labels=age_labels, right=False)        # 使用左闭右开区间\n",
    "\n",
    "# 计算每个年龄区间中高风险患者的比例 2分\n",
    "\n",
    "# age_risk_rate = _____________(_____________)['RiskLevel'].apply(lambda x: (x == '高风险患者').mean())\n",
    "age_risk_rate = data.groupby(data['AgeRange'])['RiskLevel'].apply(lambda x: (x == '高风险患者').mean())\n",
    "\n",
    "# 统计每个年龄区间的患者数量 1分\n",
    "\n",
    "# age_patient_count = data_____________\n",
    "age_patient_count = data['AgeRange'].value_counts()\n",
    "\n",
    "# 输出结果\n",
    "print(\"年龄区间中高风险患者的比例和患者数:\")\n",
    "print(age_risk_rate) \n",
    "print(age_patient_count) "
   ]
  },
  {
   "cell_type": "markdown",
   "id": "16ac5923",
   "metadata": {},
   "source": [
    "***答题完成以下部分为题目讲解***"
   ]
  },
  {
   "cell_type": "markdown",
   "id": "ece4df1c",
   "metadata": {},
   "source": [
    "# pandas.read_csv 函数说明\n",
    "```python\n",
    "pandas.read_csv(filepath_or_buffer, *, sep=<no_default>, delimiter=None, header='infer', names=<no_default>, index_col=None, usecols=None, dtype=None, engine=None, converters=None, true_values=None, false_values=None, skipinitialspace=False, skiprows=None, skipfooter=0, nrows=None, na_values=None, keep_default_na=True, na_filter=True, verbose=<no_default>, skip_blank_lines=True, parse_dates=None, infer_datetime_format=<no_default>, keep_date_col=<no_default>, date_parser=<no_default>, date_format=None, dayfirst=False, cache_dates=True, iterator=False, chunksize=None, compression='infer', thousands=None, decimal='.', lineterminator=None, quotechar='\"', quoting=0, doublequote=True, escapechar=None, comment=None, encoding=None, encoding_errors='strict', dialect=None, on_bad_lines='error', delim_whitespace=<no_default>, low_memory=True, memory_map=False, float_precision=None, storage_options=None, dtype_backend=<no_default>)\n",
    "```\n",
    "Read a comma-separated values (csv) file into DataFrame. Also supports optionally iterating or breaking of the file into chunks.\n",
    "```python\n",
    "# Examples\n",
    "pd.read_csv('data.csv')\n",
    "```\n",
    "[pandas官方文档 pandas.read_csv](https://pandas.pydata.org/docs/reference/api/pandas.read_csv.html#pandas.read_csv)"
   ]
  },
  {
   "cell_type": "markdown",
   "id": "e9b1fccd",
   "metadata": {},
   "source": [
    "# numpy.where 函数说明\n",
    "```python\n",
    "numpy.where(condition, [x, y, ]/)\n",
    "```\n",
    "Return elements chosen from x or y depending on condition.\n",
    "\n",
    "[numpy官方文档 numpy.where]()"
   ]
  },
  {
   "cell_type": "code",
   "execution_count": 12,
   "id": "4ffb0910",
   "metadata": {},
   "outputs": [
    {
     "name": "stdout",
     "output_type": "stream",
     "text": [
      "[0 1 2 3 4 5 6 7 8 9]\n",
      "[ 0  1  2  3  4 50 60 70 80 90]\n"
     ]
    }
   ],
   "source": [
    "# Examlpes\n",
    "import numpy as np\n",
    "a = np.arange(10)\n",
    "print(a)\n",
    "a = np.where(a < 5, a, 10*a)\n",
    "print(a)"
   ]
  },
  {
   "cell_type": "markdown",
   "id": "5a0c02c3",
   "metadata": {},
   "source": [
    "# pandas.DataFrame.value_counts 函数说明\n",
    "```python\n",
    "DataFrame.value_counts(subset=None, normalize=False, sort=True, ascending=False, dropna=True)\n",
    "```\n",
    "Return a Series containing the frequency of each distinct row in the Dataframe.\n",
    "\n",
    "[pandas官方文档 pandas.DataFrame.value_counts](https://pandas.pydata.org/docs/reference/api/pandas.DataFrame.value_counts.html#pandas.DataFrame.value_counts)"
   ]
  },
  {
   "cell_type": "code",
   "execution_count": 14,
   "id": "e31d8efd",
   "metadata": {},
   "outputs": [
    {
     "data": {
      "text/html": [
       "<div>\n",
       "<style scoped>\n",
       "    .dataframe tbody tr th:only-of-type {\n",
       "        vertical-align: middle;\n",
       "    }\n",
       "\n",
       "    .dataframe tbody tr th {\n",
       "        vertical-align: top;\n",
       "    }\n",
       "\n",
       "    .dataframe thead th {\n",
       "        text-align: right;\n",
       "    }\n",
       "</style>\n",
       "<table border=\"1\" class=\"dataframe\">\n",
       "  <thead>\n",
       "    <tr style=\"text-align: right;\">\n",
       "      <th></th>\n",
       "      <th>num_legs</th>\n",
       "      <th>num_wings</th>\n",
       "    </tr>\n",
       "  </thead>\n",
       "  <tbody>\n",
       "    <tr>\n",
       "      <th>falcon</th>\n",
       "      <td>2</td>\n",
       "      <td>2</td>\n",
       "    </tr>\n",
       "    <tr>\n",
       "      <th>dog</th>\n",
       "      <td>4</td>\n",
       "      <td>0</td>\n",
       "    </tr>\n",
       "    <tr>\n",
       "      <th>cat</th>\n",
       "      <td>4</td>\n",
       "      <td>0</td>\n",
       "    </tr>\n",
       "    <tr>\n",
       "      <th>ant</th>\n",
       "      <td>6</td>\n",
       "      <td>0</td>\n",
       "    </tr>\n",
       "  </tbody>\n",
       "</table>\n",
       "</div>"
      ],
      "text/plain": [
       "        num_legs  num_wings\n",
       "falcon         2          2\n",
       "dog            4          0\n",
       "cat            4          0\n",
       "ant            6          0"
      ]
     },
     "execution_count": 14,
     "metadata": {},
     "output_type": "execute_result"
    }
   ],
   "source": [
    "# Examples\n",
    "import pandas as pd\n",
    "df = pd.DataFrame({'num_legs': [2, 4, 4, 6],\n",
    "                   'num_wings': [2, 0, 0, 0]},\n",
    "                     index=['falcon', 'dog', 'cat', 'ant'])\n",
    "df"
   ]
  },
  {
   "cell_type": "code",
   "execution_count": 15,
   "id": "575f99f9",
   "metadata": {},
   "outputs": [
    {
     "data": {
      "text/plain": [
       "num_legs  num_wings\n",
       "4         0            2\n",
       "2         2            1\n",
       "6         0            1\n",
       "dtype: int64"
      ]
     },
     "execution_count": 15,
     "metadata": {},
     "output_type": "execute_result"
    }
   ],
   "source": [
    "df.value_counts()"
   ]
  },
  {
   "cell_type": "code",
   "execution_count": 16,
   "id": "a193bead",
   "metadata": {},
   "outputs": [
    {
     "data": {
      "text/plain": [
       "num_legs  num_wings\n",
       "2         2            1\n",
       "4         0            2\n",
       "6         0            1\n",
       "dtype: int64"
      ]
     },
     "execution_count": 16,
     "metadata": {},
     "output_type": "execute_result"
    }
   ],
   "source": [
    "df.value_counts(sort=False)"
   ]
  },
  {
   "cell_type": "code",
   "execution_count": 17,
   "id": "3cc6bf87",
   "metadata": {},
   "outputs": [
    {
     "data": {
      "text/plain": [
       "num_legs  num_wings\n",
       "2         2            1\n",
       "6         0            1\n",
       "4         0            2\n",
       "dtype: int64"
      ]
     },
     "execution_count": 17,
     "metadata": {},
     "output_type": "execute_result"
    }
   ],
   "source": [
    "df.value_counts(ascending=True)"
   ]
  },
  {
   "cell_type": "code",
   "execution_count": 20,
   "id": "620889ac",
   "metadata": {},
   "outputs": [
    {
     "data": {
      "text/plain": [
       "num_legs  num_wings\n",
       "4         0            0.50\n",
       "2         2            0.25\n",
       "6         0            0.25\n",
       "dtype: float64"
      ]
     },
     "execution_count": 20,
     "metadata": {},
     "output_type": "execute_result"
    }
   ],
   "source": [
    "df.value_counts(normalize=True)"
   ]
  },
  {
   "cell_type": "markdown",
   "id": "c28190a8",
   "metadata": {},
   "source": [
    "# pandas.cut 函数说明\n",
    "```python\n",
    "pandas.cut(x, bins, right=True, labels=None, retbins=False, precision=3, include_lowest=False, duplicates='raise', ordered=True)\n",
    "```\n",
    "Bin values into discrete intervals.\n",
    "\n",
    "Use cut when you need to segment and sort data values into bins. This function is also useful for going from a continuous variable to a categorical variable. For example, cut could convert ages to groups of age ranges. Supports binning into an equal number of bins, or a pre-specified array of bins.\n",
    "\n",
    "[pandas官方文档 pandas.cut](https://pandas.pydata.org/docs/reference/api/pandas.cut.html#pandas.cut)"
   ]
  },
  {
   "cell_type": "code",
   "execution_count": 21,
   "id": "73107fcd",
   "metadata": {},
   "outputs": [
    {
     "data": {
      "text/plain": [
       "[NaN, (0.0, 1.0], NaN, (2.0, 3.0], (4.0, 5.0]]\n",
       "Categories (3, interval[int64, right]): [(0, 1] < (2, 3] < (4, 5]]"
      ]
     },
     "execution_count": 21,
     "metadata": {},
     "output_type": "execute_result"
    }
   ],
   "source": [
    "bins = pd.IntervalIndex.from_tuples([(0, 1), (2, 3), (4, 5)])\n",
    "pd.cut([0, 0.5, 1.5, 2.5, 4.5], bins)"
   ]
  },
  {
   "cell_type": "markdown",
   "id": "1c42408d",
   "metadata": {},
   "source": [
    "# pandas.DataFrame.groupby 函数说明\n",
    "```python\n",
    "DataFrame.groupby(by=None, axis=<no_default>, level=None, as_index=True, sort=True, group_keys=True, observed=<no_default>, dropna=True)\n",
    "\n",
    "```\n",
    "Group DataFrame using a mapper or by a Series of columns.\n",
    "\n",
    "A groupby operation involves some combination of splitting the object, applying a function, and combining the results. This can be used to group large amounts of data and compute operations on these groups.\n",
    "\n",
    "[pandas官方文档 pandas.DataFrame.groupby](https://pandas.pydata.org/docs/reference/api/pandas.DataFrame.groupby.html#pandas.DataFrame.groupby)"
   ]
  },
  {
   "cell_type": "code",
   "execution_count": 22,
   "id": "fcae313e",
   "metadata": {},
   "outputs": [
    {
     "data": {
      "text/html": [
       "<div>\n",
       "<style scoped>\n",
       "    .dataframe tbody tr th:only-of-type {\n",
       "        vertical-align: middle;\n",
       "    }\n",
       "\n",
       "    .dataframe tbody tr th {\n",
       "        vertical-align: top;\n",
       "    }\n",
       "\n",
       "    .dataframe thead th {\n",
       "        text-align: right;\n",
       "    }\n",
       "</style>\n",
       "<table border=\"1\" class=\"dataframe\">\n",
       "  <thead>\n",
       "    <tr style=\"text-align: right;\">\n",
       "      <th></th>\n",
       "      <th></th>\n",
       "      <th>Max Speed</th>\n",
       "    </tr>\n",
       "    <tr>\n",
       "      <th>Animal</th>\n",
       "      <th></th>\n",
       "      <th></th>\n",
       "    </tr>\n",
       "  </thead>\n",
       "  <tbody>\n",
       "    <tr>\n",
       "      <th rowspan=\"2\" valign=\"top\">Falcon</th>\n",
       "      <th>0</th>\n",
       "      <td>380.0</td>\n",
       "    </tr>\n",
       "    <tr>\n",
       "      <th>1</th>\n",
       "      <td>370.0</td>\n",
       "    </tr>\n",
       "    <tr>\n",
       "      <th rowspan=\"2\" valign=\"top\">Parrot</th>\n",
       "      <th>2</th>\n",
       "      <td>24.0</td>\n",
       "    </tr>\n",
       "    <tr>\n",
       "      <th>3</th>\n",
       "      <td>26.0</td>\n",
       "    </tr>\n",
       "  </tbody>\n",
       "</table>\n",
       "</div>"
      ],
      "text/plain": [
       "          Max Speed\n",
       "Animal             \n",
       "Falcon 0      380.0\n",
       "       1      370.0\n",
       "Parrot 2       24.0\n",
       "       3       26.0"
      ]
     },
     "execution_count": 22,
     "metadata": {},
     "output_type": "execute_result"
    }
   ],
   "source": [
    "# Examples\n",
    "df = pd.DataFrame({'Animal': ['Falcon', 'Falcon','Parrot', 'Parrot'],\n",
    "                   'Max Speed': [380., 370., 24., 26.]})\n",
    "df.groupby(\"Animal\", group_keys=True)[['Max Speed']].apply(lambda x: x)"
   ]
  },
  {
   "cell_type": "markdown",
   "id": "60ce480d",
   "metadata": {},
   "source": [
    "# lambda表达式 （又称匿名函数）函数说明\n",
    "```python\n",
    "lambda_expr ::= \"lambda\" [parameter_list] \":\" expression\n",
    "```\n",
    "Lambda expressions (sometimes called lambda forms) are used to create anonymous functions. The expression lambda parameters: expression yields a function object. The unnamed object behaves like a function object defined with:\n",
    "```python\n",
    "def <lambda>(parameters):\n",
    "    return expression\n",
    "```\n",
    "\n",
    "[Python官方文档 6.14.Lambdas](https://docs.python.org/3.13/reference/expressions.html#lambda)"
   ]
  },
  {
   "cell_type": "code",
   "execution_count": null,
   "id": "447098f2",
   "metadata": {},
   "outputs": [],
   "source": []
  }
 ],
 "metadata": {
  "kernelspec": {
   "display_name": "Python 3 (ipykernel)",
   "language": "python",
   "name": "python3"
  },
  "language_info": {
   "codemirror_mode": {
    "name": "ipython",
    "version": 3
   },
   "file_extension": ".py",
   "mimetype": "text/x-python",
   "name": "python",
   "nbconvert_exporter": "python",
   "pygments_lexer": "ipython3",
   "version": "3.11.5"
  }
 },
 "nbformat": 4,
 "nbformat_minor": 5
}
