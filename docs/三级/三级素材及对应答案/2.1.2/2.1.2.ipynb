{
 "cells": [
  {
   "cell_type": "code",
   "execution_count": null,
   "id": "efb22380-7ffc-4761-904a-706d3a07e292",
   "metadata": {},
   "outputs": [],
   "source": [
    "import pandas as pd\n",
    "#读取一个Excel文件，并将读取到的数据存储在变量data中\n",
    "data = pd.__________('大学生低碳生活行为的影响因素数据集.xlsx')\n",
    "#打印出数据集的前5行\n",
    "print(data.head())\n",
    "\n",
    "#处理数据集中的缺失值\n",
    "initial_row_count = data.__________[0]\n",
    "data = data.__________()\n",
    "final_row_count = data.shape[0]\n",
    "print(f'处理后数据行数: {final_row_count}, 删除的行数: {initial_row_count - final_row_count}')\n",
    "\n",
    "#处理重复行\n",
    "duplicate_count = data.duplicated().sum()\n",
    "data = data.__________()\n",
    "print(f'删除的重复行数: {duplicate_count}')\n",
    "\n",
    "from sklearn.preprocessing import StandardScaler\n",
    "numerical_features = ['4.您的月生活费○≦1,000元   ○1,001-2,000元   ○2,001-3,000元   ○≧3,001元']\n",
    "scaler = StandardScaler()\n",
    "data[numerical_features] = scaler.__________(data[numerical_features])\n",
    "\n",
    "selected_features = [\n",
    "    '1.您的性别○男性   ○女性', '2.您的年级○大一   ○大二   ○大三   ○大四', '3.您的生源地○农村   ○城镇（乡镇）   ○地县级城市  ○省会城市及直辖市', '4.您的月生活费○≦1,000元   ○1,001-2,000元   ○2,001-3,000元   ○≧3,001元',\n",
    "    '5.您进行过绿色低碳的相关生活方式吗?', '6.您觉得“低碳”，与你的生活关系密切吗？',\n",
    "    '7.低碳生活是否会成为未来的主流生活方式？', '8.您是否认为低碳生活会提高您的生活质量？'\n",
    "]\n",
    "X = data[__________]\n",
    "\n",
    "# 创建目标变量\n",
    "y = __________['__________']\n",
    "\n",
    "from sklearn.model_selection import train_test_split\n",
    "# 数据划分\n",
    "X_train, X_test, y_train, y_test = __________(X, y, test_size=0.2, random_state=42)\n",
    "\n",
    "# 保存处理后的数据\n",
    "cleaned_data = pd.concat([X, y], axis=1)\n",
    "cleaned_data.__________('2.1.2_cleaned_data.csv', index=False)"
   ]
  }
 ],
 "metadata": {
  "kernelspec": {
   "display_name": "Python 3 (ipykernel)",
   "language": "python",
   "name": "python3"
  },
  "language_info": {
   "codemirror_mode": {
    "name": "ipython",
    "version": 3
   },
   "file_extension": ".py",
   "mimetype": "text/x-python",
   "name": "python",
   "nbconvert_exporter": "python",
   "pygments_lexer": "ipython3",
   "version": "3.9.2"
  }
 },
 "nbformat": 4,
 "nbformat_minor": 5
}
