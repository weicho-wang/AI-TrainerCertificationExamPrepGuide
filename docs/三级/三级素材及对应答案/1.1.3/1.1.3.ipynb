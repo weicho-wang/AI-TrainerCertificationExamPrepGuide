{
 "cells": [
  {
   "cell_type": "code",
   "execution_count": 5,
   "id": "200158c1-c24e-432b-ad59-b946530c0253",
   "metadata": {},
   "outputs": [],
   "source": [
    "import pandas as pd\n",
    "import numpy as np\n",
    "# import matplotlib.pyplot as plt\n",
    "# 读取数据集\n",
    "data = pd.read_csv('credit_data.csv')"
   ]
  },
  {
   "cell_type": "code",
   "execution_count": 7,
   "id": "b4ff4469-437e-4db5-8650-9f425685f24d",
   "metadata": {},
   "outputs": [
    {
     "name": "stdout",
     "output_type": "stream",
     "text": [
      "缺失值统计:\n",
      "CustomerID            0\n",
      "Name                  0\n",
      "Age                   1\n",
      "Income                1\n",
      "LoanAmount            0\n",
      "LoanTerm              0\n",
      "CreditScore           0\n",
      "Default               0\n",
      "TransactionHistory    0\n",
      "dtype: int64\n",
      "重复值统计:\n",
      "0\n",
      "Test\n"
     ]
    }
   ],
   "source": [
    "# 1. 数据完整性审核\n",
    "\n",
    "# missing_values = data._________         #数据缺失值统计 2分\n",
    "missing_values = data.isnull().sum()      #数据缺失值统计 2分\n",
    "\n",
    "# duplicate_values = data._________            #数据重复值统计 2分\n",
    "duplicate_values = data.duplicated().sum()     #数据重复值统计 2分\n",
    "\n",
    "# 输出结果\n",
    "print(\"缺失值统计:\")\n",
    "print(missing_values)\n",
    "print(\"重复值统计:\")\n",
    "print(duplicate_values)"
   ]
  },
  {
   "cell_type": "code",
   "execution_count": 14,
   "id": "19c4488f-a5b3-4a34-bb5c-0518e4d80577",
   "metadata": {},
   "outputs": [
    {
     "name": "stdout",
     "output_type": "stream",
     "text": [
      "0       True\n",
      "1       True\n",
      "2       True\n",
      "3       True\n",
      "4      False\n",
      "       ...  \n",
      "995     True\n",
      "996     True\n",
      "997     True\n",
      "998     True\n",
      "999    False\n",
      "Name: is_valid, Length: 1000, dtype: bool\n",
      "数据合理性检查:\n",
      "       is_age_valid is_income_valid is_loan_amount_valid  \\\n",
      "count          1000            1000                 1000   \n",
      "unique            2               2                    2   \n",
      "top            True            True                 True   \n",
      "freq            999             999                  796   \n",
      "\n",
      "       is_credit_score_valid is_valid  \n",
      "count                   1000     1000  \n",
      "unique                     1        2  \n",
      "top                     True     True  \n",
      "freq                    1000      795  \n"
     ]
    }
   ],
   "source": [
    "# 2. 数据合理性审核\n",
    "\n",
    "# data['is_age_valid'] = _________._________(18, 70)              #Age数据的合理性审核 2分\n",
    "data['is_age_valid'] = data['Age'].between(18, 70)                #Age数据的合理性审核 2分\n",
    "\n",
    "# data['is_income_valid'] = _________ > _________                 #Income数据的合理性审核 2分\n",
    "data['is_income_valid'] = data['Income'] > 2000                  #Income数据的合理性审核 2分\n",
    "\n",
    "# data['is_loan_amount_valid'] = _________ < (_________ * 5)                  #LoanAmount数据的合理性审核 2分\n",
    "data['is_loan_amount_valid'] = data['LoanAmount'] < (data['Income'] * 5)      #LoanAmount数据的合理性审核 2分\n",
    "\n",
    "# data['is_credit_score_valid'] = _________._________(300, 850)         #CreditScore数据的合理性审核 2分\n",
    "data['is_credit_score_valid'] = data['CreditScore'].between(300, 850)   #CreditScore数据的合理性审核 2分\n",
    "\n",
    "# 合理性检查结果\n",
    "validity_checks = data[['is_age_valid', 'is_income_valid', 'is_loan_amount_valid', 'is_credit_score_valid']].all(axis=1)\n",
    "data['is_valid'] = validity_checks\n",
    "print(data['is_valid'])\n",
    "# 输出结果\n",
    "print(\"数据合理性检查:\")\n",
    "print(data[['is_age_valid', 'is_income_valid', 'is_loan_amount_valid', 'is_credit_score_valid', 'is_valid']].describe())"
   ]
  },
  {
   "cell_type": "code",
   "execution_count": 15,
   "id": "b3ab6bd5-dfe1-41b8-a009-0b24041db818",
   "metadata": {},
   "outputs": [
    {
     "name": "stdout",
     "output_type": "stream",
     "text": [
      "数据清洗完成，已保存为 'cleaned_credit_data.csv'\n"
     ]
    }
   ],
   "source": [
    "# 3. 数据清洗和异常值处理\n",
    "# 标记不合理数据\n",
    "invalid_rows = data[~data['is_valid']]\n",
    "# 删除不合理数据行\n",
    "cleaned_data = data[data['is_valid']]\n",
    "# 删除标记列\n",
    "cleaned_data = cleaned_data.drop(columns=['is_age_valid', 'is_income_valid', 'is_loan_amount_valid', 'is_credit_score_valid', 'is_valid'])\n",
    "# 保存清洗后的数据\n",
    "\n",
    "# _________._________(_________, index=False)\n",
    "cleaned_data.to_csv('cleaned_credit_data.csv', index=False)\n",
    "\n",
    "print(\"数据清洗完成，已保存为 'cleaned_credit_data.csv'\")"
   ]
  },
  {
   "cell_type": "code",
   "execution_count": 4,
   "id": "15ad15a4-0431-4797-a982-d48afa0db9d9",
   "metadata": {},
   "outputs": [
    {
     "name": "stdout",
     "output_type": "stream",
     "text": [
      "6\n"
     ]
    }
   ],
   "source": [
    "x=2\n",
    "y=3\n",
    "z=x*y\n",
    "print(z)"
   ]
  },
  {
   "cell_type": "code",
   "execution_count": 3,
   "id": "af17cd75-a925-43e3-811c-b7eb0c2f859d",
   "metadata": {},
   "outputs": [
    {
     "name": "stdout",
     "output_type": "stream",
     "text": [
      "600000\n"
     ]
    },
    {
     "data": {
      "text/plain": [
       "600000"
      ]
     },
     "execution_count": 3,
     "metadata": {},
     "output_type": "execute_result"
    }
   ],
   "source": [
    "def xy(x,y):\n",
    "    z=x*y\n",
    "    print(z)\n",
    "    return z\n",
    "\n",
    "xy(20,30000)"
   ]
  },
  {
   "cell_type": "code",
   "execution_count": 5,
   "id": "53f5327e-5a62-4a9d-ba9e-c47967f9ab0b",
   "metadata": {},
   "outputs": [
    {
     "name": "stdout",
     "output_type": "stream",
     "text": [
      "100\n",
      "120\n",
      "281\n"
     ]
    }
   ],
   "source": [
    "data=[18,100,120,43]\n",
    "x=data[1]\n",
    "z=sum(data)\n",
    "y=max(data)\n",
    "print(x)\n",
    "print(y)\n",
    "print(z)"
   ]
  },
  {
   "cell_type": "code",
   "execution_count": 3,
   "id": "034e87bb-3e47-478f-b6b6-8efcaa11d7a8",
   "metadata": {},
   "outputs": [
    {
     "name": "stdout",
     "output_type": "stream",
     "text": [
      "item= 1\n",
      "item= 2\n",
      "item= 3\n",
      "item= a\n",
      "item= 5\n",
      "item= 9\n"
     ]
    }
   ],
   "source": [
    "my=[1,2,3,'a',5,9]\n",
    "for item in my:\n",
    "    print('item=',item)"
   ]
  },
  {
   "cell_type": "code",
   "execution_count": null,
   "id": "d0ed5bbc-0d42-4c6c-8ce0-f3f34c6ae749",
   "metadata": {},
   "outputs": [],
   "source": []
  }
 ],
 "metadata": {
  "kernelspec": {
   "display_name": "Python 3 (ipykernel)",
   "language": "python",
   "name": "python3"
  },
  "language_info": {
   "codemirror_mode": {
    "name": "ipython",
    "version": 3
   },
   "file_extension": ".py",
   "mimetype": "text/x-python",
   "name": "python",
   "nbconvert_exporter": "python",
   "pygments_lexer": "ipython3",
   "version": "3.11.5"
  }
 },
 "nbformat": 4,
 "nbformat_minor": 5
}
