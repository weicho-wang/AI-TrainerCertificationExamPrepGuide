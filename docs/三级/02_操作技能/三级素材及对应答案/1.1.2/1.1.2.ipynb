{
 "cells": [
  {
   "cell_type": "code",
   "execution_count": 2,
   "id": "dc6df6cd-ed8a-4658-bc6c-0e6d3954c384",
   "metadata": {},
   "outputs": [],
   "source": [
    "import pandas as pd\n",
    "import numpy as np\n",
    "import matplotlib.pyplot as plt\n",
    "# 读取数据集 2分\n",
    "\n",
    "# data = _____________\n",
    "data = pd.read_csv('sensor_data.csv')"
   ]
  },
  {
   "cell_type": "code",
   "execution_count": 3,
   "id": "827966a0-74d4-406a-b6c0-02bf756f0140",
   "metadata": {},
   "outputs": [
    {
     "name": "stdout",
     "output_type": "stream",
     "text": [
      "传感器数据数量和平均值:\n",
      "              count       mean\n",
      "SensorType                    \n",
      "Humidity       2065  48.978302\n",
      "Light          1950  49.439011\n",
      "SoilMoisture   1951  49.325119\n",
      "SoilPH         2029  49.865460\n",
      "Temperature    2005  49.847153\n"
     ]
    }
   ],
   "source": [
    "# 1. 传感器数据统计\n",
    "# 对传感器类型进行分组，并计算每个组的数据数量和平均值 3分\n",
    "\n",
    "# sensor_stats = _____________(_____________)['Value']._____________\n",
    "sensor_stats = data.groupby('SensorType')['Value'].agg({'count','mean'})\n",
    "\n",
    "# 输出结果\n",
    "print(\"传感器数据数量和平均值:\")\n",
    "print(sensor_stats)"
   ]
  },
  {
   "cell_type": "code",
   "execution_count": 6,
   "id": "b5cb3daa-45a0-4dae-ab84-07e9129158c7",
   "metadata": {},
   "outputs": [
    {
     "name": "stdout",
     "output_type": "stream",
     "text": [
      "每个位置的温度和湿度数据平均值:\n",
      "SensorType   Humidity  Temperature\n",
      "Location                          \n",
      "Field1      49.036008    50.482617\n",
      "Field2      47.379411    49.874282\n",
      "Field3      49.583266    48.761804\n",
      "Field4      49.955498    50.241608\n"
     ]
    }
   ],
   "source": [
    "# 2. 按位置统计温度和湿度数据\n",
    "# 筛选出温度和湿度数据，然后按位置和传感器类型分组，计算每个组的平均值 2分\n",
    "\n",
    "# location_stats = data[data['SensorType']._____________._____________['Value'].mean().unstack()\n",
    "location_stats = data[data['SensorType'].isin(['Temperature','Humidity'])].groupby(['Location','SensorType'])['Value'].mean().unstack()\n",
    "\n",
    "# 输出结果\n",
    "print(\"每个位置的温度和湿度数据平均值:\")\n",
    "print(location_stats)"
   ]
  },
  {
   "cell_type": "code",
   "execution_count": 7,
   "id": "68064e8f-ac9a-4f17-926d-d18489e704c1",
   "metadata": {},
   "outputs": [
    {
     "name": "stdout",
     "output_type": "stream",
     "text": [
      "异常值数量: 1011\n",
      "数据清洗完成，已保存为 'cleaned_sensor_data.csv'\n"
     ]
    }
   ],
   "source": [
    "# 3. 数据清洗和异常值处理\n",
    "# 标记异常值 3分\n",
    "'''\n",
    "data['is_abnormal'] = _____________(\n",
    "    ((_____________) & ((data['Value'] < -10) | (data['Value'] > 50))) |\n",
    "    ((_____________) & ((data['Value'] < 0) | (data['Value'] > 100))),\n",
    "    True, False\n",
    ")\n",
    "'''\n",
    "data['is_abnormal'] = np.where(\n",
    "    ((data['SensorType']=='Temperature') & ((data['Value'] < -10) | (data['Value'] > 50))) |\n",
    "    ((data['SensorType']=='Humidity') & ((data['Value'] < 0) | (data['Value'] > 100))),\n",
    "    True, False\n",
    ")\n",
    "# 输出异常值数量 2分\n",
    "\n",
    "# print(\"异常值数量:\", data['is_abnormal']._____________)\n",
    "print(\"异常值数量:\", data['is_abnormal'].sum())\n",
    "\n",
    "# 填补缺失值\n",
    "# 使用前向填充和后向填充的方法填补缺失值 4分\n",
    "# data['Value']._____________(_____________, inplace=True)\n",
    "# data['Value']._____________(_____________, inplace=True)\n",
    "data['Value'].fillna(method='ffill', inplace=True)\n",
    "data['Value'].fillna(method='bfill', inplace=True)\n",
    "\n",
    "# 保存清洗后的数据\n",
    "# 删除用于标记异常值的列，并将清洗后的数据保存到新的CSV文件中 4分\n",
    "'''\n",
    "cleaned_data = _____________(_____________=['is_abnormal'])\n",
    "_____________('cleaned_sensor_data.csv', _____________)\n",
    "'''\n",
    "cleaned_data = data.drop(columns=['is_abnormal'])\n",
    "cleaned_data.to_csv('cleaned_sensor_data.csv', index=False)\n",
    "\n",
    "print(\"数据清洗完成，已保存为 'cleaned_sensor_data.csv'\")"
   ]
  },
  {
   "cell_type": "code",
   "execution_count": null,
   "id": "54d37318",
   "metadata": {},
   "outputs": [],
   "source": []
  }
 ],
 "metadata": {
  "kernelspec": {
   "display_name": "Python 3 (ipykernel)",
   "language": "python",
   "name": "python3"
  },
  "language_info": {
   "codemirror_mode": {
    "name": "ipython",
    "version": 3
   },
   "file_extension": ".py",
   "mimetype": "text/x-python",
   "name": "python",
   "nbconvert_exporter": "python",
   "pygments_lexer": "ipython3",
   "version": "3.11.5"
  }
 },
 "nbformat": 4,
 "nbformat_minor": 5
}
