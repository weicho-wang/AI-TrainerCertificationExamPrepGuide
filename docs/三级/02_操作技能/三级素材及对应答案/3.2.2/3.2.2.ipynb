{
 "cells": [
  {
   "cell_type": "code",
   "execution_count": 4,
   "id": "d329ae72-b7ab-47cc-b698-3c62d72233c0",
   "metadata": {},
   "outputs": [
    {
     "name": "stdout",
     "output_type": "stream",
     "text": [
      "Predicted class: 8\n"
     ]
    }
   ],
   "source": [
    "import onnxruntime\n",
    "import numpy as np\n",
    "from PIL import Image\n",
    "\n",
    "\n",
    "# 加载ONNX模型  2分\n",
    "\n",
    "# ort_session = __________________\n",
    "ort_session = onnxruntime.InferenceSession('mnist.onnx')\n",
    "\n",
    "\n",
    "# 加载图像 2分\n",
    "\n",
    "# image = __________________('L')  # 转为灰度图\n",
    "image = Image.open('img_test.png').convert('L')  # 转为灰度图\n",
    "\n",
    "\n",
    "#图像预处理 \n",
    "# image = __________________((28, 28))  # 调整大小为MNIST模型的输入尺寸2分\n",
    "# image_array = __________________(__________________, dtype=np.float32)  # 转为numpy数组2分\n",
    "# image_array = __________________(__________________, axis=0)  # 添加batch维度2分\n",
    "# image_array = __________________(__________________, axis=0)  # 添加通道维度2分\n",
    "image = image.resize((28, 28))  # 调整大小为MNIST模型的输入尺寸2分\n",
    "image_array = np.array(image, dtype=np.float32)  # 转为numpy数组2分\n",
    "image_array = np.expand_dims(image_array, axis=0)  # 添加batch维度2分\n",
    "image_array = np.expand_dims(image_array, axis=0)  # 添加通道维度2分\n",
    "\n",
    "\n",
    "#返回模型输入列表 2分\n",
    "\n",
    "# ort_inputs = {__________________()[0].name: image_array}\n",
    "ort_inputs = {ort_session.get_inputs()[0].name: image_array}\n",
    "\n",
    "# 执行预测 2分\n",
    "\n",
    "# ort_outs = __________________(None, ort_inputs)\n",
    "ort_outs = ort_session.run(None, ort_inputs)\n",
    "\n",
    "\n",
    "# 获取预测结果 2分\n",
    "\n",
    "# predicted_class = __________________\n",
    "predicted_class = np.argmax(ort_outs[0])\n",
    "\n",
    "\n",
    "# 输出预测结果\n",
    "print(f\"Predicted class: {predicted_class}\")\n"
   ]
  },
  {
   "cell_type": "code",
   "execution_count": null,
   "id": "4b7db005",
   "metadata": {},
   "outputs": [],
   "source": []
  }
 ],
 "metadata": {
  "kernelspec": {
   "display_name": "Python 3 (ipykernel)",
   "language": "python",
   "name": "python3"
  },
  "language_info": {
   "codemirror_mode": {
    "name": "ipython",
    "version": 3
   },
   "file_extension": ".py",
   "mimetype": "text/x-python",
   "name": "python",
   "nbconvert_exporter": "python",
   "pygments_lexer": "ipython3",
   "version": "3.11.5"
  }
 },
 "nbformat": 4,
 "nbformat_minor": 5
}
