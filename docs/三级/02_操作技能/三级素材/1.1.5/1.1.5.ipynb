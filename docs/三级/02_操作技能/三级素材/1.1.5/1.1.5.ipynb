{
 "cells": [
  {
   "cell_type": "code",
   "execution_count": null,
   "id": "c5eee2c0-5bd3-4797-ba5e-1341a6e28832",
   "metadata": {},
   "outputs": [],
   "source": [
    "import pandas as pd\n",
    "import numpy as np\n",
    "import matplotlib.pyplot as plt\n",
    "\n",
    "# 1. 数据采集\n",
    "# 从本地文件中读取数据  2分\n",
    "data = _____________._____________('vehicle_traffic_data.csv')\n",
    "print(\"数据采集完成，已加载到DataFrame中\")\n",
    "\n",
    "# 打印数据的前5条记录\n",
    "print(data.head())"
   ]
  },
  {
   "cell_type": "code",
   "execution_count": null,
   "id": "244da04a-74a6-43d5-8a23-6332994601cb",
   "metadata": {},
   "outputs": [],
   "source": [
    "# 2. 数据清洗与预处理\n",
    "# 处理缺失值  2分\n",
    "data = _____________._____________()\n",
    "\n",
    "# 数据类型转换\n",
    "data['Age'] = data['Age']._____________(int)               #Age数据类型转换 1分\n",
    "data['Speed'] = data['Speed']._____________(float)           #Speed数据类型转换 1分\n",
    "data['TravelDistance'] = data['TravelDistance']._____________(float)  #TravelDistance数据类型转换 1分\n",
    "data['TravelTime'] = data['TravelTime']._____________(float)     #TravelTime数据类型转换 1分\n",
    "\n",
    "# 处理异常值  2分\n",
    "data = data[(data['Age']._____________(18, 70))  & \n",
    "            (data['Speed'].between(0, 200)) & \n",
    "            (data['TravelDistance'].between(1, 1000)) & \n",
    "            (data['TravelTime']._____________(1, 1440))]\n",
    "\n",
    "# 保存清洗后的数据  1分\n",
    "data._____________('cleaned_vehicle_traffic_data.csv', index=False)\n",
    "print(\"数据清洗完成，已保存为 'cleaned_vehicle_traffic_data.csv'\")"
   ]
  },
  {
   "cell_type": "code",
   "execution_count": null,
   "id": "0e8c224c-4015-45ac-a72e-30957d2629a3",
   "metadata": {},
   "outputs": [],
   "source": [
    "# 3. 数据合理性审核\n",
    "# 审核字段合理性 1分\n",
    "unreasonable_data = _____________[~((data['Age'].between(18, 70)) & \n",
    "                           (data['Speed'].between(0, 200)) & \n",
    "                           (data['TravelDistance'].between(1, 1000)) & \n",
    "                           (data['TravelTime'].between(1, 1440)))]\n",
    "print(\"不合理的数据:\\n\", unreasonable_data)\n",
    "\n",
    "# 4. 数据统计\n",
    "# 统计每种交通事件的发生次数  2分\n",
    "traffic_event_counts = _____________['TrafficEvent']._____________()\n",
    "print(\"每种交通事件的发生次数:\\n\", traffic_event_counts)\n",
    "\n",
    "# 统计不同性别的平均车速、行驶距离和行驶时间  2分\n",
    "gender_stats = data._____________('Gender')._____________({'Speed': 'mean', 'TravelDistance': 'mean', 'TravelTime': 'mean'})\n",
    "print(\"不同性别的平均车速、行驶距离和行驶时间:\\n\", gender_stats)\n",
    "\n",
    "# 统计不同年龄段的驾驶员数  2分\n",
    "age_bins = [18, 25, 35, 45, 55, 65, 70]\n",
    "age_labels = ['18-25', '26-35', '36-45', '46-55', '56-65', '66-70']\n",
    "data['AgeGroup'] = pd._____________(data['Age'], bins=age_bins, labels=age_labels, right=False)\n",
    "age_group_counts = data['AgeGroup']._____________()\n",
    "print(\"不同年龄段的驾驶员数:\\n\", age_group_counts)"
   ]
  }
 ],
 "metadata": {
  "kernelspec": {
   "display_name": "Python 3 (ipykernel)",
   "language": "python",
   "name": "python3"
  },
  "language_info": {
   "codemirror_mode": {
    "name": "ipython",
    "version": 3
   },
   "file_extension": ".py",
   "mimetype": "text/x-python",
   "name": "python",
   "nbconvert_exporter": "python",
   "pygments_lexer": "ipython3",
   "version": "3.9.2"
  }
 },
 "nbformat": 4,
 "nbformat_minor": 5
}
