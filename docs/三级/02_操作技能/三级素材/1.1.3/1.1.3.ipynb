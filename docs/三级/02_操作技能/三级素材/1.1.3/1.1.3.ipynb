{
 "cells": [
  {
   "cell_type": "code",
   "execution_count": null,
   "id": "200158c1-c24e-432b-ad59-b946530c0253",
   "metadata": {},
   "outputs": [],
   "source": [
    "import pandas as pd\n",
    "import numpy as np\n",
    "import matplotlib.pyplot as plt\n",
    "# 读取数据集\n",
    "data = pd.read_csv('credit_data.csv')"
   ]
  },
  {
   "cell_type": "code",
   "execution_count": null,
   "id": "b4ff4469-437e-4db5-8650-9f425685f24d",
   "metadata": {},
   "outputs": [],
   "source": [
    "# 1. 数据完整性审核\n",
    "missing_values = data._________().__________()       #数据缺失值统计 2分\n",
    "duplicate_values = data._________().__________()     #数据重复值统计 2分\n",
    "# 输出结果\n",
    "print(\"缺失值统计:\")\n",
    "print(missing_values)\n",
    "print(\"重复值统计:\")\n",
    "print(duplicate_values)"
   ]
  },
  {
   "cell_type": "code",
   "execution_count": null,
   "id": "19c4488f-a5b3-4a34-bb5c-0518e4d80577",
   "metadata": {},
   "outputs": [],
   "source": [
    "# 2. 数据合理性审核\n",
    "_________['is_age_valid'] = _________['Age'].between(18, 70)            #Age数据的合理性审核 2分\n",
    "_________['is_income_valid'] = _________['Income'] > 2000         #Income数据的合理性审核 2分\n",
    "_________['is_loan_amount_valid'] = _________['LoanAmount'] < (data['Income'] * 5)    #LoanAmount数据的合理性审核 2分\n",
    "_________['is_credit_score_valid'] = _________['CreditScore'].between(300, 850)   #CreditScore数据的合理性审核 2分\n",
    "# 合理性检查结果\n",
    "validity_checks = data[['is_age_valid', 'is_income_valid', 'is_loan_amount_valid', 'is_credit_score_valid']].all(axis=1)\n",
    "data['is_valid'] = validity_checks\n",
    "# 输出结果\n",
    "print(\"数据合理性检查:\")\n",
    "print(data[['is_age_valid', 'is_income_valid', 'is_loan_amount_valid', 'is_credit_score_valid', 'is_valid']].describe())"
   ]
  },
  {
   "cell_type": "code",
   "execution_count": null,
   "id": "b3ab6bd5-dfe1-41b8-a009-0b24041db818",
   "metadata": {},
   "outputs": [],
   "source": [
    "# 3. 数据清洗和异常值处理\n",
    "# 标记不合理数据\n",
    "invalid_rows = data[~data['is_valid']]\n",
    "# 删除不合理数据行\n",
    "cleaned_data = data[data['is_valid']]\n",
    "# 删除标记列\n",
    "cleaned_data = cleaned_data.drop(columns=['is_age_valid', 'is_income_valid', 'is_loan_amount_valid', 'is_credit_score_valid', 'is_valid'])\n",
    "# 保存清洗后的数据\n",
    "cleaned_data.to_csv('cleaned_credit_data.csv', index=False)\n",
    "print(\"数据清洗完成，已保存为 'cleaned_credit_data.csv'\")"
   ]
  }
 ],
 "metadata": {
  "kernelspec": {
   "display_name": "Python 3 (ipykernel)",
   "language": "python",
   "name": "python3"
  },
  "language_info": {
   "codemirror_mode": {
    "name": "ipython",
    "version": 3
   },
   "file_extension": ".py",
   "mimetype": "text/x-python",
   "name": "python",
   "nbconvert_exporter": "python",
   "pygments_lexer": "ipython3",
   "version": "3.9.2"
  }
 },
 "nbformat": 4,
 "nbformat_minor": 5
}
