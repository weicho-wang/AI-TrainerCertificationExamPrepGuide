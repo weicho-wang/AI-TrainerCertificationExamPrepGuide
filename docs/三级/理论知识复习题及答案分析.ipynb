{
 "cells": [
  {
   "cell_type": "markdown",
   "id": "eead189f",
   "metadata": {},
   "source": [
    "# 判断题"
   ]
  },
  {
   "cell_type": "markdown",
   "id": "a0580b58",
   "metadata": {},
   "source": [
    "【题目】1. 道德评价的关键是看其行为是否符合社会道德规范。\n",
    "\n",
    "【答案】正确\n",
    "\n",
    "【解析】出自国家职业资格考试《职业道德》考试的真题中。道德评价是人们依据一定的道德原则和规范，对自己或他人的行为进行是非、善恶判断，表明自己态度的价值倾向的意识活动。道德评价的关键是看其行为是否符合社会道德规范"
   ]
  },
  {
   "cell_type": "markdown",
   "id": "315680ac",
   "metadata": {},
   "source": [
    "【题目】2. 人工智能训练师在处理敏感数据时，可以不经用户同意直接使用这些数据进行模型训练。\n",
    "\n",
    "【答案】错误\n",
    "\n",
    "【解析】"
   ]
  },
  {
   "cell_type": "markdown",
   "id": "ba2bb367",
   "metadata": {},
   "source": [
    "【题目】3. 随着全球化的发展，职业道德也呈现出单一化的趋势，不同国家和地区的职业道德规范不存在差异。\n",
    "\n",
    "【答案】错误\n",
    "\n",
    "【解析】"
   ]
  },
  {
   "cell_type": "markdown",
   "id": "acc638ae",
   "metadata": {},
   "source": [
    "【题目】4. 人工智能训练师在职业道德建设中，无需考虑数据的质量与适用性，只需关注模型的训练效果。\n",
    "\n",
    "【答案】错误\n",
    "\n",
    "【解析】"
   ]
  },
  {
   "cell_type": "markdown",
   "id": "1a85523c",
   "metadata": {},
   "source": [
    "【题目】5.人工智能训练师在开发和训练AI模型时，不需要对模型可能产生的歧视性或偏见性结果负责。\n",
    "\n",
    "【答案】错误\n",
    "\n",
    "【解析】"
   ]
  },
  {
   "cell_type": "markdown",
   "id": "f463a95f",
   "metadata": {},
   "source": [
    "【题目】6. 人工智能训练师的职业道德不包括对用户隐私的保护。\n",
    "\n",
    "【答案】错误\n",
    "\n",
    "【解析】"
   ]
  },
  {
   "cell_type": "markdown",
   "id": "bc5c8645",
   "metadata": {},
   "source": [
    "【题目】7. 人工智能训练师的主要任务是设计和开发新的算法。\n",
    "\n",
    "【答案】错误\n",
    "\n",
    "【解析】"
   ]
  },
  {
   "cell_type": "markdown",
   "id": "b1a46eaa",
   "metadata": {},
   "source": [
    "【题目】8. 职业守则仅仅是一种软约束，不具备法律效力。\n",
    "\n",
    "【答案】错误\n",
    "\n",
    "【解析】"
   ]
  },
  {
   "cell_type": "markdown",
   "id": "55bca3a4",
   "metadata": {},
   "source": [
    "【题目】9. 职业守则的特点之一是具有普遍性，适用于所有行业。\n",
    "\n",
    "【答案】错误\n",
    "\n",
    "【解析】存疑"
   ]
  },
  {
   "cell_type": "markdown",
   "id": "9e4c4ed7",
   "metadata": {},
   "source": [
    "【题目】10. 职业守则核心内容不包括遵守法律。\n",
    "\n",
    "【答案】错误\n",
    "\n",
    "【解析】"
   ]
  },
  {
   "cell_type": "markdown",
   "id": "bff579b1",
   "metadata": {},
   "source": [
    "【题目】11. 人工智能训练师在制定职业守则的过程中，应该充分考虑到人工智能技术的发展趋势和潜在风险。\n",
    "\n",
    "【答案】正确\n",
    "\n",
    "【解析】制定职业守则需要前瞻性地考虑技术发展趋势和潜在风险，以确保守则的适应性和安全性。"
   ]
  },
  {
   "cell_type": "markdown",
   "id": "3223da29",
   "metadata": {},
   "source": [
    "【题目】12. 职业守则的实施与监督应该完全依靠员工个人的自觉性。\n",
    "\n",
    "【答案】错误\n",
    "\n",
    "【解析】"
   ]
  },
  {
   "cell_type": "markdown",
   "id": "5792ed9c",
   "metadata": {},
   "source": [
    "【题目】13. 职业守则中的奉献社会是指从业人员在工作中要正确处理个人利益和社会整体利益的关系，把个人利益放在首位。\n",
    "\n",
    "【答案】错误\n",
    "\n",
    "【解析】"
   ]
  },
  {
   "cell_type": "markdown",
   "id": "23769b54",
   "metadata": {},
   "source": [
    "【题目】14. 从业人员能否做到爱岗敬业，取决于他是否具有过硬的专业技能。\n",
    "\n",
    "【答案】错误\n",
    "\n",
    "【解析】"
   ]
  },
  {
   "cell_type": "markdown",
   "id": "35bede2c",
   "metadata": {},
   "source": [
    "【题目】15. 人工智能训练师在训练过程中，可以根据自己的经验和直觉来调整模型参数，以提高模型性能。\n",
    "\n",
    "【答案】错误\n",
    "\n",
    "【解析】"
   ]
  },
  {
   "cell_type": "markdown",
   "id": "ef97b204",
   "metadata": {},
   "source": [
    "【题目】16. 语音输入是Windows输入法的一种智能应用。\n",
    "\n",
    "【答案】正确"
   ]
  },
  {
   "cell_type": "markdown",
   "id": "09dbefc9",
   "metadata": {},
   "source": [
    "【题目】17. Windows系统的维护利器是一款可以帮助用户优化系统性能、清理垃圾文件和修复系统问题的软件。\n",
    "\n",
    "【答案】正确\n",
    "\n",
    "【解析】存疑"
   ]
  },
  {
   "cell_type": "markdown",
   "id": "fe3f4bf0",
   "metadata": {},
   "source": [
    "【题目】18. 如果鼠标和键盘都无法使用，可以通过按F8键进入Windows的高级启动选项进行修复。\n",
    "\n",
    "【答案】错误"
   ]
  },
  {
   "cell_type": "markdown",
   "id": "3fc4346c",
   "metadata": {},
   "source": [
    "【题目】19. Windows 10中小工具中的时钟可以锁定前端显示。\n",
    "\n",
    "【答案】正确\n",
    "\n",
    "【解析】存疑"
   ]
  },
  {
   "cell_type": "markdown",
   "id": "9c7cfd52",
   "metadata": {},
   "source": [
    "【题目】20. 在浏览器中，可以通过点击地址栏输入网址来访问网页。\n",
    "\n",
    "【答案】正确"
   ]
  },
  {
   "cell_type": "markdown",
   "id": "7b021393",
   "metadata": {},
   "source": [
    "【题目】21. 浏览器的高级探索功能可以帮助用户更好地了解和管理浏览器的设置和功能。\n",
    "\n",
    "【答案】正确"
   ]
  },
  {
   "cell_type": "markdown",
   "id": "cf46a506",
   "metadata": {},
   "source": [
    "【题目】22. 使用Ctrl + C可以复制选中的文本或对象。\n",
    "\n",
    "【答案】正确"
   ]
  },
  {
   "cell_type": "markdown",
   "id": "6f93ce00",
   "metadata": {},
   "source": [
    "【题目】23. 使用Word进行高效办公时，可以同时打开多个文档进行编辑。\n",
    "\n",
    "【答案】正确"
   ]
  },
  {
   "cell_type": "markdown",
   "id": "db0b4878",
   "metadata": {},
   "source": [
    "【题目】24. Word样式库中的样式可以快速应用到文档中的多个段落或文本框中。\n",
    "\n",
    "【答案】正确"
   ]
  },
  {
   "cell_type": "markdown",
   "id": "82eb6e1b",
   "metadata": {},
   "source": [
    "【题目】25. 在Word中进行图文混排时，图片和文本框的位置是可以随意调整的。\n",
    "\n",
    "【答案】正确"
   ]
  },
  {
   "cell_type": "markdown",
   "id": "f5e9626e",
   "metadata": {},
   "source": [
    "【题目】26. 在Excel中，可以使用公式计算单元格中的数据\n",
    "\n",
    "【答案】正确"
   ]
  },
  {
   "cell_type": "markdown",
   "id": "2890e58d",
   "metadata": {},
   "source": [
    "【题目】27. 在Excel中，使用MAX函数可以找到一列数据中的最大值。\n",
    "\n",
    "【答案】正确"
   ]
  },
  {
   "cell_type": "markdown",
   "id": "c06ccd25",
   "metadata": {},
   "source": [
    "【题目】28. Excel图表的数据可视化功能只能用于静态展示数据，无法进行动态交互。\n",
    "\n",
    "【答案】错误"
   ]
  },
  {
   "cell_type": "markdown",
   "id": "6c74535e",
   "metadata": {},
   "source": [
    "【题目】29. 工作簿的扩展名是.xls。\n",
    "\n",
    "【答案】错误\n",
    "\n",
    "【解析】Excel 在2007版本之前的文件扩展名为.xls，在2007版本之后的扩展名为.xlsx。"
   ]
  },
  {
   "cell_type": "markdown",
   "id": "06a6b946",
   "metadata": {},
   "source": [
    "【题目】30. 通过利用Excel宏，我们可以将繁琐的重复性任务自动化，使我们的工作变得高效和轻松。\n",
    "\n",
    "【答案】正确"
   ]
  },
  {
   "cell_type": "markdown",
   "id": "be69c76e",
   "metadata": {},
   "source": [
    "【题目】31. 用人单位与劳动者订立的劳动合同中，约定了试用期满后自动转正的条款，这样的约定是合法的\n",
    "\n",
    "【答案】正确"
   ]
  },
  {
   "cell_type": "markdown",
   "id": "3e77eef6",
   "metadata": {},
   "source": [
    "【题目】32. 劳动合同中必须包含劳动合同期限。\n",
    "\n",
    "【答案】正确\n",
    "\n",
    "【解析】《劳动合同法》第十七条规定，劳动合同应当具备劳动合同期限等内容。"
   ]
  },
  {
   "cell_type": "markdown",
   "id": "7f4b78f6",
   "metadata": {},
   "source": [
    "【题目】33. 劳动者在试用期内可以随时解除劳动合同。\n",
    "\n",
    "【答案】错误\n",
    "\n",
    "【解析】《劳动合同法》第三十七条规定，劳动者在试用期内提前三日通知用人单位即可解除劳动合同。"
   ]
  },
  {
   "cell_type": "markdown",
   "id": "12ca64d3",
   "metadata": {},
   "source": [
    "【题目】34. 网络运营者应当采取技术措施和其他必要措施，确保其收集的个人信息安全，防止信息泄露、损毁、丢失。\n",
    "\n",
    "【答案】正确"
   ]
  },
  {
   "cell_type": "markdown",
   "id": "46380631",
   "metadata": {},
   "source": [
    "【题目】35. 网络接入的规范要求中，用户必须使用实名制进行注册。\n",
    "\n",
    "【答案】正确"
   ]
  },
  {
   "cell_type": "markdown",
   "id": "69e93e87",
   "metadata": {},
   "source": [
    "【题目】36. 关键信息基础设施的运营者应当自行或者委托网络安全服务机构对其网络的安全性和可能存在的风险每年至少进行一次检测评估。\n",
    "\n",
    "【答案】正确"
   ]
  },
  {
   "cell_type": "markdown",
   "id": "fc83ba19",
   "metadata": {},
   "source": [
    "【题目】37. 只有发明人和设计人才能成为专利申请权主体。\n",
    "\n",
    "【答案】错误\n",
    "\n",
    "【解析】专利申请主体还包括发明人或设计人的合法受让人、继承人以及职务发明中的单位等。"
   ]
  },
  {
   "cell_type": "markdown",
   "id": "ed7ebde6",
   "metadata": {},
   "source": [
    "【题目】38. 如果一项发明创造具有新颖性、创造性和实用性，那么它一定可以获得专利授权。\n",
    "\n",
    "【答案】错误\n",
    "\n",
    "【解析】专利授权还要满足不属于专利法排除的客体、符合专利法规定的形式要求等。"
   ]
  },
  {
   "cell_type": "markdown",
   "id": "6aedab12",
   "metadata": {},
   "source": [
    "【题目】39. 在专利申请流程中，申请人需要提交详细的专利说明书、权利要求书和摘要等文件。\n",
    "\n",
    "【答案】正确"
   ]
  },
  {
   "cell_type": "markdown",
   "id": "55aa0236",
   "metadata": {},
   "source": [
    "【题目】40. 遵纪守法是社会成员的基本义务，因此每个人都应该自觉遵守法律法规。\n",
    "\n",
    "【答案】正确"
   ]
  },
  {
   "cell_type": "markdown",
   "id": "a8eebaf4",
   "metadata": {},
   "source": [
    "【题目】41. 根据我国相关法律法规，人工智能训练师在工作过程中应当享有与其他职业相同的劳动保护权益，包括工作安全、健康保障和合理的工作时间安排等。\n",
    "\n",
    "【答案】正确"
   ]
  },
  {
   "cell_type": "markdown",
   "id": "96eb59c0",
   "metadata": {},
   "source": [
    "【题目】42. 在人工智能训练师的工作中，使用、复制或分发数据、算法或模型时，必须遵守知识产权法的基本原则，包括尊重知识产权的专有性、保护创作者权益和禁止未经授权的使用。\n",
    "\n",
    "【答案】正确"
   ]
  },
  {
   "cell_type": "markdown",
   "id": "3bf9b529",
   "metadata": {},
   "source": [
    "【题目】43. 著作权法只保护原创性的作品。\n",
    "\n",
    "【答案】错误\n",
    "\n",
    "【解析】还包括九大类十五种法定类型。"
   ]
  },
  {
   "cell_type": "markdown",
   "id": "4a238277",
   "metadata": {},
   "source": [
    "【题目】44. 专利权的主体只能是发明人或设计人。\n",
    "\n",
    "【答案】错误"
   ]
  },
  {
   "cell_type": "markdown",
   "id": "02fd9e5c",
   "metadata": {},
   "source": [
    "【题目】45. 知识产权的保护措施只针对原创性作品。\n",
    "\n",
    "【答案】错误\n",
    "\n",
    "【解析】还包括商标、专利、商业秘密等其他类型。"
   ]
  },
  {
   "cell_type": "markdown",
   "id": "274e36f3",
   "metadata": {},
   "source": [
    "【题目】46. 数据采集的常用工具包括Python、Excel和SQL Server。\n",
    "\n",
    "【答案】错误"
   ]
  },
  {
   "cell_type": "markdown",
   "id": "cde825fe",
   "metadata": {},
   "source": [
    "【题目】47. 使用Python编写网络爬虫时，可以安装requests库，来完成任务。\n",
    "\n",
    "【答案】正确\n",
    "\n",
    "【解析】[Requests is an elegant and simple HTTP library for Python, built for human beings.](https://docs.python-requests.org/en/latest/index.html)"
   ]
  },
  {
   "cell_type": "markdown",
   "id": "0c593106",
   "metadata": {},
   "source": [
    "【题目】48. 在数据采集流程中，工具应用的意义仅限于提高数据收集的速度。\n",
    "\n",
    "【答案】错误"
   ]
  },
  {
   "cell_type": "markdown",
   "id": "7f586bc2",
   "metadata": {},
   "source": [
    "【题目】49. 数据治理工具主要用于优化人工智能算法训练过程中的数据输入，以确保训练数据集的质量和一致性。\n",
    "\n",
    "【答案】正确"
   ]
  },
  {
   "cell_type": "markdown",
   "id": "b2e1d175",
   "metadata": {},
   "source": [
    "【题目】50. ETL工具的基本原理包括数据抽取、数据转换和数据加载三个步骤。\n",
    "\n",
    "【答案】正确\n",
    "\n",
    "【解析】Extract/Transform/Load"
   ]
  },
  {
   "cell_type": "markdown",
   "id": "04d549f3",
   "metadata": {},
   "source": [
    "【题目】51. 数据存储和管理相关工具通常具有自动备份和恢复功能。\n",
    "\n",
    "【答案】正确"
   ]
  },
  {
   "cell_type": "markdown",
   "id": "5f156962",
   "metadata": {},
   "source": [
    "【题目】52. 云服务是一种基于互联网的计算方式，通过这种方式，共享软硬件资源和信息可以按需求提供给计算机各种终端和其他设备。\n",
    "\n",
    "【答案】正确"
   ]
  },
  {
   "cell_type": "markdown",
   "id": "cab5b308",
   "metadata": {},
   "source": [
    "【题目】53. 使用Excel可以将CSV文件转换为JSON格式。\n",
    "\n",
    "【答案】正确\n",
    "\n",
    "【解析】使用VBA脚本或第三方插件。"
   ]
  },
  {
   "cell_type": "markdown",
   "id": "3bcce355",
   "metadata": {},
   "source": [
    "【题目】54. 所有的大数据处理平台都专门用于处理结构化数据，并且不能处理非结构化数据。\n",
    "\n",
    "【答案】错误\n",
    "\n",
    "【解析】\n",
    "| 维度       | 结构化               | 半结构化               | 非结构化               |\n",
    "|------------|----------------------|------------------------|------------------------|\n",
    "| 数据模式     | 预先固定             | 自带标签/可扩展        | 无统一模型             |\n",
    "| 形态       | 表                   | JSON/XML/键值          | 文本/二进制            |\n",
    "| 查询方式   | SQL                  | JSONPath/XPath         | 全文检索/AI 解析       |\n",
    "| 例子       | MySQL 表             | MongoDB 文档           | 图片、视频             |"
   ]
  },
  {
   "cell_type": "markdown",
   "id": "b708979d",
   "metadata": {},
   "source": [
    "【题目】55. 所有的常用数据处理工具都只能处理数值型数据，无法处理文本或图像数据。\n",
    "\n",
    "【答案】错误\n",
    "\n",
    "【解析】Pandas/NumPy/OpenCV可以处理多种类型数据包括数值型、文本和图像。"
   ]
  },
  {
   "cell_type": "code",
   "execution_count": null,
   "id": "af70b8e1",
   "metadata": {},
   "outputs": [],
   "source": []
  },
  {
   "cell_type": "code",
   "execution_count": null,
   "id": "24c888aa",
   "metadata": {},
   "outputs": [],
   "source": []
  }
 ],
 "metadata": {
  "kernelspec": {
   "display_name": "Python 3 (ipykernel)",
   "language": "python",
   "name": "python3"
  },
  "language_info": {
   "codemirror_mode": {
    "name": "ipython",
    "version": 3
   },
   "file_extension": ".py",
   "mimetype": "text/x-python",
   "name": "python",
   "nbconvert_exporter": "python",
   "pygments_lexer": "ipython3",
   "version": "3.11.5"
  }
 },
 "nbformat": 4,
 "nbformat_minor": 5
}
